{
  "cells": [
    {
      "cell_type": "markdown",
      "metadata": {
        "id": "fFiHhmIfiZ8B"
      },
      "source": [
        "1. a) Write a program that takes two integers as input from the user and prints their sum."
      ]
    },
    {
      "cell_type": "code",
      "execution_count": 6,
      "metadata": {
        "colab": {
          "base_uri": "https://localhost:8080/"
        },
        "id": "K-DqLU_DifN2",
        "outputId": "cc4a7a4e-2955-4c68-911e-1def483f3629"
      },
      "outputs": [
        {
          "name": "stdout",
          "output_type": "stream",
          "text": [
            "enter the two numbers\n",
            "number \n",
            " a ? 20\n",
            " b ? 030\n",
            "50.0\n"
          ]
        }
      ],
      "source": [
        "print(\"enter the two numbers\")\n",
        "print(\"number \")\n",
        "a = float(input(\" a ? \"))\n",
        "b = float(input(\" b ? \"))\n",
        "number= a + b\n",
        "print(number)\n"
      ]
    },
    {
      "cell_type": "markdown",
      "metadata": {
        "id": "SPPxXvFPphHi"
      },
      "source": [
        "3b) Write a program that takes a string as input and prints the number of characters in it."
      ]
    },
    {
      "cell_type": "code",
      "execution_count": null,
      "metadata": {
        "colab": {
          "base_uri": "https://localhost:8080/"
        },
        "id": "AggtCu7ypr75",
        "outputId": "21cf6b88-642d-4e2d-b0c6-4581c104529d"
      },
      "outputs": [
        {
          "name": "stdout",
          "output_type": "stream",
          "text": [
            " string ?\n",
            " gautham12\n",
            "  9\n"
          ]
        }
      ],
      "source": [
        "print(\" string ?\")\n",
        "a = str(input(\" \"))\n",
        "print(\" \",len(a))\n"
      ]
    },
    {
      "cell_type": "markdown",
      "metadata": {
        "id": "wg-HRV-OvJuj"
      },
      "source": [
        " c) Write a program that takes a list of numbers as input and prints the sum of all the numbers\n"
      ]
    },
    {
      "cell_type": "code",
      "execution_count": null,
      "metadata": {
        "colab": {
          "base_uri": "https://localhost:8080/"
        },
        "id": "CuqzrTixvaJH",
        "outputId": "dedbaffd-bbae-46f2-8b48-df8fb351e43c"
      },
      "outputs": [
        {
          "name": "stdout",
          "output_type": "stream",
          "text": [
            "total numbers in the list?\n",
            "5\n",
            "enter numbers\n",
            "1\n",
            "2\n",
            "3.333\n",
            "4.1544\n",
            "555.963\n",
            "566.4504\n"
          ]
        }
      ],
      "source": [
        "print(\"total numbers in the list?\")\n",
        "n= int(input())\n",
        "a = 0\n",
        "print(\"enter numbers\")\n",
        "for i in range(n):\n",
        "  x =float(input())\n",
        "  a = x + a\n",
        "print(a)\n"
      ]
    },
    {
      "cell_type": "markdown",
      "metadata": {
        "id": "dcJY1wV3aukB"
      },
      "source": [
        "2 a) Write a function called calculate_area that takes two parameters (length and width) and returns the area of a rectangle."
      ]
    },
    {
      "cell_type": "code",
      "execution_count": null,
      "metadata": {
        "colab": {
          "base_uri": "https://localhost:8080/"
        },
        "id": "e4SQr6fp-BFx",
        "outputId": "bb7465cc-53ff-4527-9f67-62b66624c908"
      },
      "outputs": [
        {
          "name": "stdout",
          "output_type": "stream",
          "text": [
            "length ? 2\n",
            "width ? 3\n",
            "6.0\n"
          ]
        }
      ],
      "source": [
        "def calulate_area(l,w):\n",
        " return l * w\n",
        "l=float(input(\"length ? \"))\n",
        "w=float(input(\"width ? \"))\n",
        "area = l * w\n",
        "print(area)"
      ]
    },
    {
      "cell_type": "markdown",
      "metadata": {
        "id": "kA5nnXWkgCYw"
      },
      "source": [
        " b) Write a function called is_even that takes a number as input and returns True if it is even, False otherwise."
      ]
    },
    {
      "cell_type": "code",
      "execution_count": null,
      "metadata": {
        "colab": {
          "base_uri": "https://localhost:8080/"
        },
        "id": "OPOCTMqGgFRG",
        "outputId": "68cf1275-7f37-4090-8cef-7153f2336499"
      },
      "outputs": [
        {
          "name": "stdout",
          "output_type": "stream",
          "text": [
            " 10\n",
            "True\n"
          ]
        }
      ],
      "source": [
        "def is_even(x):\n",
        "  x = float(input(\" \"))\n",
        "  x = x%2\n",
        "  if x==0:\n",
        "     return True\n",
        "  elif x==1:\n",
        "   return False\n",
        "\n",
        "y = is_even(x)\n",
        "print(y)"
      ]
    },
    {
      "cell_type": "markdown",
      "metadata": {
        "id": "cz5WgY1Flaog"
      },
      "source": [
        ". c) Write a function called reverse_string that takes a string as input and returns the reverse of the string.\n"
      ]
    },
    {
      "cell_type": "code",
      "execution_count": null,
      "metadata": {
        "colab": {
          "base_uri": "https://localhost:8080/"
        },
        "id": "MAjKbjnalb_e",
        "outputId": "ea85963e-0695-45c7-c723-994225dd3c24"
      },
      "outputs": [
        {
          "name": "stdout",
          "output_type": "stream",
          "text": [
            "enter string gautham\n",
            "mahtuag\n"
          ]
        }
      ],
      "source": [
        "def reverse_string(stringg):\n",
        "      a = \"\"\n",
        "      for x in stringg:\n",
        "            a = x + a\n",
        "      return a\n",
        "\n",
        "y =input(\"enter string \")\n",
        "w = reverse_string(y)\n",
        "print(w)\n",
        "\n",
        "\n"
      ]
    },
    {
      "cell_type": "markdown",
      "metadata": {
        "id": "gbZfinNrvYr3"
      },
      "source": [
        "3 a) Create a class called Circle with a constructor that takes the radius as input. Include a method called calculate_area that returns the area of the circle."
      ]
    },
    {
      "cell_type": "code",
      "execution_count": 19,
      "metadata": {
        "colab": {
          "base_uri": "https://localhost:8080/"
        },
        "id": "02qgwsaJvdfG",
        "outputId": "c0d169e5-7565-444f-bffc-528afd1bf5c9"
      },
      "outputs": [
        {
          "name": "stdout",
          "output_type": "stream",
          "text": [
            "enter radius of the circle\n",
            "5\n",
            "radius is  78.5\n"
          ]
        }
      ],
      "source": [
        "class Circle:\n",
        "  def __init__(self,r):\n",
        "    self.r = r\n",
        "  def calculate_area(self):\n",
        "    return 3.14*(self.r)*(self.r)\n",
        "\n",
        "print(\"enter radius of the circle\")\n",
        "radius = (int(input(\"\")))\n",
        "A = Circle(radius)\n",
        "area = A.calculate_area()\n",
        "print(\"radius is \",area)\n",
        "\n",
        "\n"
      ]
    },
    {
      "cell_type": "markdown",
      "metadata": {
        "id": "4hroqHQ-gCR6"
      },
      "source": [
        "b) Create a class called Student with a constructor that takes the name and age as input. Include a method called is_adult that returns True if the age is above 18, False otherwise."
      ]
    },
    {
      "cell_type": "code",
      "execution_count": 28,
      "metadata": {
        "colab": {
          "base_uri": "https://localhost:8080/"
        },
        "id": "3AcxTMp3gEUG",
        "outputId": "2d6988ad-5a94-4629-d612-aaebc057d671"
      },
      "outputs": [
        {
          "name": "stdout",
          "output_type": "stream",
          "text": [
            "input name gautham\n",
            "input age 24\n",
            "True\n",
            "None\n"
          ]
        }
      ],
      "source": [
        "class Student:\n",
        "  def __init__(self,name,age):\n",
        "    self.name = name\n",
        "    self.age = age\n",
        "  def is_adult(self):\n",
        "    if (self.age>18):\n",
        "      print(\"True\")\n",
        "    else:\n",
        "      print(\"false\")\n",
        "\n",
        "input1 = input(\"input name \")\n",
        "input2 = int(input(\"input age \"))\n",
        "\n",
        "Age = Student(input1,input2)\n",
        "result = Age.is_adult()\n",
        "print(result)"
      ]
    },
    {
      "cell_type": "markdown",
      "metadata": {
        "id": "I8F4Cb4ugEy0"
      },
      "source": [
        "\n",
        "c) Create a class called Car with a constructor that takes the make and model as input. Include a method called get_make_model that returns the make and model of the car."
      ]
    },
    {
      "cell_type": "code",
      "execution_count": 31,
      "metadata": {
        "colab": {
          "base_uri": "https://localhost:8080/"
        },
        "id": "EU5JfIlygHlf",
        "outputId": "56d809d7-640d-4528-afb4-6db000d9bb12"
      },
      "outputs": [
        {
          "name": "stdout",
          "output_type": "stream",
          "text": [
            "Enter make indian\n",
            "Enter model 1999\n",
            "indian 1999\n"
          ]
        }
      ],
      "source": [
        "class Car:\n",
        "  def __init__(self,make,model):\n",
        "    self.make = make\n",
        "    self.model = model\n",
        "\n",
        "  def get_make_model(self):\n",
        "    print(self.make,self.model)\n",
        "\n",
        "input1= input(\"Enter make \")\n",
        "input2= input(\"Enter model \")\n",
        "\n",
        "R = Car(input1,input2)\n",
        "A = R.get_make_model()\n",
        "\n",
        "\n"
      ]
    },
    {
      "cell_type": "markdown",
      "metadata": {
        "id": "R7YKUTOfgJeA"
      },
      "source": [
        "4.Loops: a) Write a program that prints the numbers from 1 to 10 using a for loop"
      ]
    },
    {
      "cell_type": "code",
      "execution_count": 29,
      "metadata": {
        "colab": {
          "base_uri": "https://localhost:8080/"
        },
        "id": "MpBW1TaigLjT",
        "outputId": "4daa7926-13ce-4190-8ba5-e76621f5debc"
      },
      "outputs": [
        {
          "name": "stdout",
          "output_type": "stream",
          "text": [
            "1\n",
            "2\n",
            "3\n",
            "4\n",
            "5\n",
            "6\n",
            "7\n",
            "8\n",
            "9\n",
            "10\n"
          ]
        }
      ],
      "source": [
        "for i in range(1,11):\n",
        "  print(i)"
      ]
    },
    {
      "cell_type": "markdown",
      "metadata": {
        "id": "H6YxtijvhyOG"
      },
      "source": [
        " b) Write a program that calculates the factorial of a number using a while loop."
      ]
    },
    {
      "cell_type": "code",
      "execution_count": null,
      "metadata": {
        "colab": {
          "base_uri": "https://localhost:8080/"
        },
        "id": "06IS_FcmjHDt",
        "outputId": "81efa773-2d12-46aa-8665-b3e6e20ae8c3"
      },
      "outputs": [
        {
          "name": "stdout",
          "output_type": "stream",
          "text": [
            "enter number 5\n",
            "120\n"
          ]
        }
      ],
      "source": [
        "n = int(input(\"enter number \"))\n",
        "if (n == 0) or (n == 1):\n",
        "  print(1)\n",
        "elif (n<0):\n",
        "  print(\"not defined\")\n",
        "else:\n",
        "  f = 1\n",
        "  while n>1:\n",
        "    f = f*n\n",
        "    n = n-1\n",
        "  print(f)"
      ]
    },
    {
      "cell_type": "markdown",
      "metadata": {
        "id": "52mJ3lT6zOIb"
      },
      "source": [
        "c) Write a program that prints the even numbers from 1 to 20 using a for loop."
      ]
    },
    {
      "cell_type": "code",
      "execution_count": null,
      "metadata": {
        "colab": {
          "base_uri": "https://localhost:8080/"
        },
        "id": "_sEqtaq-zWiH",
        "outputId": "0a133a8f-0a6d-408d-d58b-b943b22d84aa"
      },
      "outputs": [
        {
          "name": "stdout",
          "output_type": "stream",
          "text": [
            "2\n",
            "4\n",
            "6\n",
            "8\n",
            "10\n",
            "12\n",
            "14\n",
            "16\n",
            "18\n",
            "20\n"
          ]
        }
      ],
      "source": [
        "n = 20\n",
        "for i in range(2,n+1,2):\n",
        "  print(i)"
      ]
    },
    {
      "cell_type": "markdown",
      "metadata": {
        "id": "YUtU4DGv6dGJ"
      },
      "source": [
        "5 a) Write a program that takes two numbers as input from the user and divides them. Handle the ZeroDivisionError exception if the second number is zero."
      ]
    },
    {
      "cell_type": "code",
      "execution_count": null,
      "metadata": {
        "colab": {
          "base_uri": "https://localhost:8080/"
        },
        "id": "WAQOz2hI6ks6",
        "outputId": "7b9edb6e-d732-41f0-ea0b-cb3aaafcc5cd"
      },
      "outputs": [
        {
          "name": "stdout",
          "output_type": "stream",
          "text": [
            "enter number a 2\n",
            "enter number b 0\n",
            "not defined\n",
            "\n"
          ]
        }
      ],
      "source": [
        "def ans(z):\n",
        "  x = float(input(\"enter number a \"))\n",
        "  y = float(input(\"enter number b \"))\n",
        "  if(y == 0):\n",
        "    print(\"not defined\")\n",
        "    return \"\"\n",
        "  else:\n",
        "    z = x / y\n",
        "  return z\n",
        "print(ans(\"\"))"
      ]
    },
    {
      "cell_type": "markdown",
      "metadata": {
        "id": "04RbQhXr-5f7"
      },
      "source": [
        "b) Write a program that takes a string as input from the user and converts it to an integer. Handle the ValueError exception if the input cannot be converted to an integer."
      ]
    },
    {
      "cell_type": "code",
      "execution_count": null,
      "metadata": {
        "colab": {
          "base_uri": "https://localhost:8080/"
        },
        "id": "-4u6oe5L_CNu",
        "outputId": "8137a43b-52f1-48f4-875c-5df4ee74f4da"
      },
      "outputs": [
        {
          "name": "stdout",
          "output_type": "stream",
          "text": [
            "enter string amal\n",
            "4\n"
          ]
        }
      ],
      "source": [
        "def string(x):\n",
        "  try:\n",
        "    a = input(\"enter string \")\n",
        "    x = len(a)\n",
        "    return x\n",
        "  except ValueError:\n",
        "    print(\"no conversion\")\n",
        "print(string(x))\n",
        "\n",
        "\n"
      ]
    },
    {
      "cell_type": "markdown",
      "metadata": {
        "id": "xWZDSH6VA-OD"
      },
      "source": [
        " c) Write a program that reads a file and prints its contents. Handle the FileNotFoundError exception if the file does not exist.\n"
      ]
    },
    {
      "cell_type": "code",
      "execution_count": null,
      "metadata": {
        "id": "fU8ej13BA1fz"
      },
      "outputs": [],
      "source": [
        "#incomplete"
      ]
    },
    {
      "cell_type": "markdown",
      "metadata": {
        "id": "_z5XfPDgJfMc"
      },
      "source": [
        "6 a) Write a program that takes a number as input and prints \"Positive\" if it is greater than zero, \"Negative\" if it is less than zero, and \"Zero\" otherwise."
      ]
    },
    {
      "cell_type": "code",
      "execution_count": null,
      "metadata": {
        "colab": {
          "base_uri": "https://localhost:8080/"
        },
        "id": "Tw97YhtKJkVK",
        "outputId": "268244f8-08cc-4070-accc-25e17f6f2cd2"
      },
      "outputs": [
        {
          "name": "stdout",
          "output_type": "stream",
          "text": [
            "-5\n",
            "negative\n"
          ]
        }
      ],
      "source": [
        "x = float(input(\"\"))\n",
        "if x > 0:\n",
        "  print(\"positive\")\n",
        "elif x < 0:\n",
        "  print(\"negative\")\n",
        "elif x == 0:\n",
        "  print(\"Zero\")"
      ]
    },
    {
      "cell_type": "markdown",
      "metadata": {
        "id": "ykUrfdmPKZAQ"
      },
      "source": [
        "b) Write a program that takes two numbers as input and prints the larger number."
      ]
    },
    {
      "cell_type": "code",
      "execution_count": 32,
      "metadata": {
        "colab": {
          "base_uri": "https://localhost:8080/"
        },
        "id": "HJSMkUsMKKX0",
        "outputId": "bd0dfd9f-e77e-4f65-d9dd-a9dc909c0562"
      },
      "outputs": [
        {
          "name": "stdout",
          "output_type": "stream",
          "text": [
            "30\n",
            "29\n",
            "30.0\n"
          ]
        }
      ],
      "source": [
        "x = float(input(\"\"))\n",
        "y = float(input(\"\"))\n",
        "if x > y:\n",
        "  print(x)\n",
        "elif x < y:\n",
        "  print(y)\n",
        "else:\n",
        " print(\"equal\")"
      ]
    },
    {
      "cell_type": "markdown",
      "metadata": {
        "id": "inuTJQ-XLBf2"
      },
      "source": [
        "c) Write a program that takes a grade as input and prints \"Pass\" if the grade is above 60, \"Fail\" otherwise.\n"
      ]
    },
    {
      "cell_type": "code",
      "execution_count": null,
      "metadata": {
        "colab": {
          "base_uri": "https://localhost:8080/"
        },
        "id": "zK4Jc35YK1pT",
        "outputId": "5106f40f-b332-48e3-f8d6-20cbc6b2d59f"
      },
      "outputs": [
        {
          "name": "stdout",
          "output_type": "stream",
          "text": [
            "Enter the grade 60\n",
            "fail\n"
          ]
        }
      ],
      "source": [
        "x = float(input(\"Enter the grade \"))\n",
        "if (x > 60):\n",
        "  print(\"Pass\")\n",
        "else:\n",
        "    print(\"fail\")"
      ]
    },
    {
      "cell_type": "markdown",
      "metadata": {
        "id": "HvtpxrCSMr_o"
      },
      "source": [
        "incomplete  5 (c)"
      ]
    }
  ],
  "metadata": {
    "colab": {
      "provenance": []
    },
    "kernelspec": {
      "display_name": "Python 3",
      "name": "python3"
    },
    "language_info": {
      "name": "python",
      "version": "3.10.13"
    }
  },
  "nbformat": 4,
  "nbformat_minor": 0
}
